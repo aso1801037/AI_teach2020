{
  "nbformat": 4,
  "nbformat_minor": 0,
  "metadata": {
    "colab": {
      "name": "2020AI0203-Wine.ipynb",
      "provenance": [],
      "collapsed_sections": [],
      "authorship_tag": "ABX9TyPdGVoxEpw1xAMiR/24forn",
      "include_colab_link": true
    },
    "kernelspec": {
      "name": "python3",
      "display_name": "Python 3"
    }
  },
  "cells": [
    {
      "cell_type": "markdown",
      "metadata": {
        "id": "view-in-github",
        "colab_type": "text"
      },
      "source": [
        "<a href=\"https://colab.research.google.com/github/aso1801037/AI_teach2020/blob/master/2020AI0203_Wine.ipynb\" target=\"_parent\"><img src=\"https://colab.research.google.com/assets/colab-badge.svg\" alt=\"Open In Colab\"/></a>"
      ]
    },
    {
      "cell_type": "markdown",
      "metadata": {
        "id": "sWsJ1DGTgX2_"
      },
      "source": [
        "### ワインデータの分類をランダンフォレストで行う"
      ]
    },
    {
      "cell_type": "code",
      "metadata": {
        "id": "IFCaLEYggmd7"
      },
      "source": [
        "#ライブラリの読み込み\n",
        "import pandas as pd\n",
        "from sklearn.model_selection import train_test_split\n",
        "from sklearn.ensemble import RandomForestClassifier\n",
        "from sklearn.metrics import accuracy_score\n",
        "from sklearn.metrics import classification_report"
      ],
      "execution_count": null,
      "outputs": []
    },
    {
      "cell_type": "markdown",
      "metadata": {
        "id": "9_nas1tVh3cY"
      },
      "source": [
        "###ワインデータの読み込み"
      ]
    },
    {
      "cell_type": "code",
      "metadata": {
        "id": "Ne-Gz6Brh7Nl",
        "outputId": "f8d13bab-4533-4819-8be9-9766f95357c3",
        "colab": {
          "base_uri": "https://localhost:8080/",
          "height": 35
        }
      },
      "source": [
        "#webから読み込むためのライブラリ\n",
        "from urllib.request import urlretrieve\n",
        "url =\"https://archive.ics.uci.edu/ml/machine-learning-databases/wine-quality/winequality-white.csv\"\n",
        "savepath =\"winequality-white.csv\"\n",
        "urlretrieve(url,savepath)"
      ],
      "execution_count": null,
      "outputs": [
        {
          "output_type": "execute_result",
          "data": {
            "text/plain": [
              "('winequality-white.csv', <http.client.HTTPMessage at 0x7fab1b848c50>)"
            ]
          },
          "metadata": {
            "tags": []
          },
          "execution_count": 2
        }
      ]
    },
    {
      "cell_type": "markdown",
      "metadata": {
        "id": "8x9QZxLOkJkp"
      },
      "source": [
        "### ワインデータのファイルをプログラムに読み込んで表示"
      ]
    },
    {
      "cell_type": "code",
      "metadata": {
        "id": "GVECEPR1kVkM"
      },
      "source": [
        "#変数wineにデータ保持\n",
        "wine =pd.read_csv(\"winequality-white.csv\",sep=\";\",encoding=\"utf-8\")\n",
        "count_date=wine.groupby('quality')[\"quality\"].count()\n",
        "print(count_date)\n",
        "count_date.plot()\n",
        "plt.savefig(\"wine-count-plt.png\")\n",
        "plt.show()"
      ],
      "execution_count": null,
      "outputs": []
    },
    {
      "cell_type": "markdown",
      "metadata": {
        "id": "W3vSR9cEYlDZ"
      },
      "source": [
        "### ラベルデータのランク段階"
      ]
    },
    {
      "cell_type": "code",
      "metadata": {
        "id": "TRW6y5GuYzSk"
      },
      "source": [
        "newlist=[]\n",
        "for v in list(y):\n",
        "  if v <=4:\n",
        "    newlist+=[0]\n",
        "    elif v<=7:\n",
        "      newlist+=[1]\n",
        "      else:\n",
        "        newlist+=[2]\n",
        "y=newlist"
      ],
      "execution_count": null,
      "outputs": []
    },
    {
      "cell_type": "markdown",
      "metadata": {
        "id": "57bQ51hdlMk8"
      },
      "source": [
        "### データを説明変数と目的変数"
      ]
    },
    {
      "cell_type": "code",
      "metadata": {
        "id": "GTq07YOPleHO"
      },
      "source": [
        "#目的変数はワインの品質ランク\n",
        "y=wine[\"quality\"]\n",
        "x=wine.drop(\"quality\",axis=1)\n",
        "x.head()"
      ],
      "execution_count": null,
      "outputs": []
    },
    {
      "cell_type": "markdown",
      "metadata": {
        "id": "jKgSbJ70mKUs"
      },
      "source": [
        "### 学習用とテスト用に分割"
      ]
    },
    {
      "cell_type": "code",
      "metadata": {
        "id": "BxvYo-mMmSAD"
      },
      "source": [
        "#trainは学習用,testはテスト用\n",
        "x_train,x_test,y_train,y_test=train_test_split(x,y,test_ize=0.2)\n",
        "model=RandomForestClassifier()\n",
        "model.fit(x_train,y_train)"
      ],
      "execution_count": null,
      "outputs": []
    },
    {
      "cell_type": "markdown",
      "metadata": {
        "id": "i3CXVj4BQ7JA"
      },
      "source": [
        "テストして結果を評価する"
      ]
    },
    {
      "cell_type": "code",
      "metadata": {
        "id": "g3TwjOKdQ0ih"
      },
      "source": [
        "#テストして結果を評価する\n",
        "y_pred=,model.predict(x_test)\n",
        "print(classification_report(y_test,x_test))\n",
        "print(\"\")"
      ],
      "execution_count": null,
      "outputs": []
    }
  ]
}